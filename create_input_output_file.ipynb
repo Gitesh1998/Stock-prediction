{
 "cells": [
  {
   "cell_type": "code",
   "execution_count": 1,
   "metadata": {},
   "outputs": [],
   "source": [
    "import pandas as pd\n",
    "import ast\n",
    "\n",
    "# Specify the path to the CSV file\n",
    "csv_file_path = 'hourly_final.csv'\n",
    "\n",
    "# Read the CSV file into a DataFrame\n",
    "df = pd.read_csv(csv_file_path)\n"
   ]
  },
  {
   "cell_type": "code",
   "execution_count": 2,
   "metadata": {},
   "outputs": [],
   "source": [
    "colData = df.columns.tolist()\n",
    "\n",
    "def week_of_month(date):\n",
    "    first_day = date.replace(day=1)\n",
    "    dom = date.day\n",
    "    adjusted_dom = dom + first_day.weekday()\n",
    "    return int((adjusted_dom - 1) / 7 + 1)\n",
    "\n",
    "for col in colData:\n",
    "    if col != \"date\":\n",
    "        df[col] = df[col].apply(ast.literal_eval)\n",
    "\n",
    "df['date'] = pd.to_datetime(df['date'])\n",
    "        "
   ]
  },
  {
   "cell_type": "code",
   "execution_count": 5,
   "metadata": {},
   "outputs": [
    {
     "name": "stdout",
     "output_type": "stream",
     "text": [
      "      day  month  week  hour  \\\n",
      "0       0      1     3    10   \n",
      "1       0      1     3    11   \n",
      "2       0      1     3    12   \n",
      "3       0      1     3    13   \n",
      "4       1      1     3    10   \n",
      "...   ...    ...   ...   ...   \n",
      "7111    4     10     4    13   \n",
      "7112    0     10     5    10   \n",
      "7113    0     10     5    11   \n",
      "7114    0     10     5    12   \n",
      "7115    0     10     5    13   \n",
      "\n",
      "                                                  input  \\\n",
      "0     [8289.0, 8291.85, 8285.2, 8281.9, 8281.5, 8286...   \n",
      "1     [8287.4, 8285.95, 8286.5, 8287.05, 8286.15, 82...   \n",
      "2     [8292.15, 8290.15, 8288.5, 8291.0, 8291.0, 829...   \n",
      "3     [8271.0, 8271.8, 8272.3, 8270.25, 8269.85, 826...   \n",
      "4     [8336.35, 8337.5, 8336.6, 8335.1, 8335.35, 833...   \n",
      "...                                                 ...   \n",
      "7111  [17657.4, 17652.95, 17653.85, 17653.1, 17656.1...   \n",
      "7112                                                 []   \n",
      "7113                                                 []   \n",
      "7114                                                 []   \n",
      "7115                                                 []   \n",
      "\n",
      "                                                 output  \n",
      "0     [8289.0, 8291.85, 8285.2, 8281.9, 8281.5, 8286...  \n",
      "1     [8287.4, 8285.95, 8286.5, 8287.05, 8286.15, 82...  \n",
      "2     [8292.15, 8290.15, 8288.5, 8291.0, 8291.0, 829...  \n",
      "3     [8271.0, 8271.8, 8272.3, 8270.25, 8269.85, 826...  \n",
      "4     [8336.35, 8337.5, 8336.6, 8335.1, 8335.35, 833...  \n",
      "...                                                 ...  \n",
      "7111  [17657.4, 17652.95, 17653.85, 17653.1, 17656.1...  \n",
      "7112                                                 []  \n",
      "7113                                                 []  \n",
      "7114                                                 []  \n",
      "7115                                                 []  \n",
      "\n",
      "[7116 rows x 6 columns]\n"
     ]
    }
   ],
   "source": [
    "\n",
    "columns = ['day', 'month', 'week', 'hour', 'input', 'output']\n",
    "new_csv_file = pd.DataFrame(columns=columns)\n",
    "\n",
    "def week_of_month(date):\n",
    "    first_day = date.replace(day=1)\n",
    "    dom = date.day\n",
    "    adjusted_dom = dom + first_day.weekday()\n",
    "    return int((adjusted_dom - 1) / 7 + 1)\n",
    "\n",
    "for index, row in df.iterrows():\n",
    "    todaysDay = df.iloc[index]['date'].dayofweek\n",
    "    month = df.iloc[index]['date'].month\n",
    "    week_num = week_of_month(df.iloc[index]['date'])\n",
    "    \n",
    "    new_csv_file.loc[len(new_csv_file.index)] = [todaysDay, month, week_num, 10, df.iloc[index]['close_10'], df.iloc[index]['close_10_output']]\n",
    "    new_csv_file.loc[len(new_csv_file.index)] = [todaysDay, month, week_num, 11, df.iloc[index]['close_11'], df.iloc[index]['close_11_output']]\n",
    "    new_csv_file.loc[len(new_csv_file.index)] = [todaysDay, month, week_num, 12, df.iloc[index]['close_12'], df.iloc[index]['close_12_output']]\n",
    "    new_csv_file.loc[len(new_csv_file.index)] = [todaysDay, month, week_num, 13, df.iloc[index]['close_13'], df.iloc[index]['close_13_output']]\n",
    "    \n",
    "print(new_csv_file)\n",
    "new_csv_file_path = 'final-file-neural-network.csv'\n",
    "new_csv_file.to_csv(new_csv_file_path, index=False)"
   ]
  }
 ],
 "metadata": {
  "kernelspec": {
   "display_name": "Python 3",
   "language": "python",
   "name": "python3"
  },
  "language_info": {
   "codemirror_mode": {
    "name": "ipython",
    "version": 3
   },
   "file_extension": ".py",
   "mimetype": "text/x-python",
   "name": "python",
   "nbconvert_exporter": "python",
   "pygments_lexer": "ipython3",
   "version": "3.10.12"
  }
 },
 "nbformat": 4,
 "nbformat_minor": 2
}
