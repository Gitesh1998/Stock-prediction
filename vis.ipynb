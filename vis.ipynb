{
 "cells": [
  {
   "cell_type": "code",
   "execution_count": 1,
   "metadata": {},
   "outputs": [
    {
     "name": "stdout",
     "output_type": "stream",
     "text": [
      "hello\n"
     ]
    }
   ],
   "source": [
    "print(\"hello\")"
   ]
  },
  {
   "cell_type": "code",
   "execution_count": 31,
   "metadata": {},
   "outputs": [
    {
     "name": "stdout",
     "output_type": "stream",
     "text": [
      "Index(['date', 'close_10', 'high_10', 'low_10', 'open_10', 'close_10_output',\n",
      "       'high_10_output', 'low_10_output', 'open_10_output', 'close_11',\n",
      "       'high_11', 'low_11', 'open_11', 'close_11_output', 'high_11_output',\n",
      "       'low_11_output', 'open_11_output', 'close_12', 'high_12', 'low_12',\n",
      "       'open_12', 'close_12_output', 'high_12_output', 'low_12_output',\n",
      "       'open_12_output', 'close_13', 'high_13', 'low_13', 'open_13',\n",
      "       'close_13_output', 'high_13_output', 'low_13_output', 'open_13_output'],\n",
      "      dtype='object')\n",
      "Data types of each column:\n",
      "date               datetime64[ns]\n",
      "close_10                   object\n",
      "high_10                    object\n",
      "low_10                     object\n",
      "open_10                    object\n",
      "close_10_output            object\n",
      "high_10_output             object\n",
      "low_10_output              object\n",
      "open_10_output             object\n",
      "close_11                   object\n",
      "high_11                    object\n",
      "low_11                     object\n",
      "open_11                    object\n",
      "close_11_output            object\n",
      "high_11_output             object\n",
      "low_11_output              object\n",
      "open_11_output             object\n",
      "close_12                   object\n",
      "high_12                    object\n",
      "low_12                     object\n",
      "open_12                    object\n",
      "close_12_output            object\n",
      "high_12_output             object\n",
      "low_12_output              object\n",
      "open_12_output             object\n",
      "close_13                   object\n",
      "high_13                    object\n",
      "low_13                     object\n",
      "open_13                    object\n",
      "close_13_output            object\n",
      "high_13_output             object\n",
      "low_13_output              object\n",
      "open_13_output             object\n",
      "dtype: object\n"
     ]
    }
   ],
   "source": [
    "import pandas as pd\n",
    "import ast\n",
    "\n",
    "# Specify the path to the CSV file\n",
    "csv_file_path = 'hourly_2015.csv'\n",
    "\n",
    "# Read the CSV file into a DataFrame\n",
    "df = pd.read_csv(csv_file_path)\n",
    "\n",
    "print(df.columns)\n",
    "\n",
    "colData = df.columns.tolist()\n",
    "colData.remove('date')\n",
    "\n",
    "for col in colData:\n",
    "    df[col] = df[col].apply(ast.literal_eval)\n",
    "\n",
    "    \n",
    "df['date'] = pd.to_datetime(df['date'])\n",
    "\n",
    "column_types = df.dtypes\n",
    "print(\"Data types of each column:\")\n",
    "print(column_types)\n"
   ]
  }
 ],
 "metadata": {
  "kernelspec": {
   "display_name": "Python 3",
   "language": "python",
   "name": "python3"
  },
  "language_info": {
   "codemirror_mode": {
    "name": "ipython",
    "version": 3
   },
   "file_extension": ".py",
   "mimetype": "text/x-python",
   "name": "python",
   "nbconvert_exporter": "python",
   "pygments_lexer": "ipython3",
   "version": "3.10.12"
  }
 },
 "nbformat": 4,
 "nbformat_minor": 2
}
